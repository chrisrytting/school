{
 "cells": [
  {
   "cell_type": "markdown",
   "metadata": {},
   "source": [
    "# Feature Zoo 1\n",
    "## Chris Rytting"
   ]
  },
  {
   "cell_type": "markdown",
   "metadata": {},
   "source": [
    "Baseline Model"
   ]
  },
  {
   "cell_type": "code",
   "execution_count": 1,
   "metadata": {
    "collapsed": false
   },
   "outputs": [
    {
     "name": "stdout",
     "output_type": "stream",
     "text": [
      "Extracting MNIST_data/train-images-idx3-ubyte.gz\n",
      "Extracting MNIST_data/train-labels-idx1-ubyte.gz\n",
      "Extracting MNIST_data/t10k-images-idx3-ubyte.gz\n",
      "Extracting MNIST_data/t10k-labels-idx1-ubyte.gz\n",
      "test accuracy 0.855\n"
     ]
    }
   ],
   "source": [
    "import tensorflow as tf\n",
    "import numpy as np\n",
    "from matplotlib import pyplot as plt\n",
    "import seaborn\n",
    "%matplotlib inline\n",
    "\n",
    "from tensorflow.examples.tutorials.mnist import input_data\n",
    "#\n",
    "# ==================================================================\n",
    "#\n",
    "\n",
    "def weight_variable(shape):\n",
    "    initial = tf.truncated_normal( shape, stddev=0.1 )\n",
    "    return tf.Variable( initial )\n",
    "\n",
    "def bias_variable(shape):\n",
    "    initial = tf.constant( 0.1, shape=shape )\n",
    "    return tf.Variable(initial)\n",
    "\n",
    "\n",
    "#\n",
    "# ==================================================================\n",
    "#\n",
    "\n",
    "# Declare computation graph\n",
    "\n",
    "y_ = tf.placeholder( tf.float32, shape=[None, 10], name=\"y_\" )\n",
    "x = tf.placeholder( tf.float32, [None, 784], name=\"x\" )\n",
    "\n",
    "W1 = weight_variable([784, 500])\n",
    "b1 = bias_variable([500])\n",
    "h1 = tf.nn.relu( tf.matmul( x, W1 ) + b1 )\n",
    "\n",
    "W2 = weight_variable([500, 500])\n",
    "b2 = bias_variable([500])\n",
    "h2 = tf.nn.relu( tf.matmul( h1, W2 ) + b2 )\n",
    "\n",
    "W3 = weight_variable([500, 1000])\n",
    "b3 = bias_variable([1000])\n",
    "h3 = tf.nn.relu( tf.matmul( h2, W3 ) + b3 )\n",
    "\n",
    "W4 = weight_variable([1000, 10])\n",
    "b4 = bias_variable([10])\n",
    "y_hat = tf.nn.softmax(tf.matmul(h3, W4) + b4)\n",
    "\n",
    "cross_entropy = tf.reduce_mean(-tf.reduce_sum(y_ * tf.log(y_hat), reduction_indices=[1]))\n",
    "xent_summary = tf.scalar_summary( 'xent', cross_entropy )\n",
    "\n",
    "correct_prediction = tf.equal(tf.argmax(y_hat,1), tf.argmax(y_,1))\n",
    "accuracy = tf.reduce_mean(tf.cast(correct_prediction, tf.float32))\n",
    "acc_summary = tf.scalar_summary( 'accuracy', accuracy )\n",
    "\n",
    "train_step = tf.train.AdamOptimizer(1e-4).minimize(cross_entropy)\n",
    "\n",
    "#\n",
    "# ==================================================================\n",
    "#\n",
    "\n",
    "sess = tf.Session()\n",
    "sess.run( tf.initialize_all_variables() )\n",
    "\n",
    "#\n",
    "# ==================================================================\n",
    "#\n",
    "\n",
    "# NOTE: we're using a single, fixed batch of the first 1000 images\n",
    "mnist = input_data.read_data_sets( \"MNIST_data/\", one_hot=True )\n",
    "\n",
    "images = mnist.train.images[ 0:1000, : ]\n",
    "labels = mnist.train.labels[ 0:1000, : ]\n",
    "train_hist = []\n",
    "test_hist = []\n",
    "\n",
    "for i in range( 150 ):\n",
    "    _, acc = sess.run( [ train_step, accuracy ], feed_dict={ x: images, y_: labels } )\n",
    "    #print( \"step %d, training accuracy %g\" % (i, acc) )\n",
    "    train_hist.append(acc)\n",
    "    test_acc = sess.run( accuracy, feed_dict={ x: mnist.test.images, y_: mnist.test.labels } )\n",
    "    test_hist.append(test_acc)\n",
    "  \n",
    "#  if i%10==0:\n",
    "#      tmp = sess.run( accuracy, feed_dict={ x: mnist.test.images, y_: mnist.test.labels } )\n",
    "#      print( \"          test accuracy %g\" % tmp )\n",
    "\n",
    "#\n",
    "# ==================================================================\n",
    "#\n",
    "final_acc = test_acc\n",
    "print( \"test accuracy %g\" % final_acc )"
   ]
  },
  {
   "cell_type": "code",
   "execution_count": 2,
   "metadata": {
    "collapsed": false
   },
   "outputs": [
    {
     "data": {
      "image/png": "[encoded data removed]",
      "text/plain": [
       "<matplotlib.figure.Figure at 0x10400be50>"
      ]
     },
     "metadata": {},
     "output_type": "display_data"
    }
   ],
   "source": [
    "plt.plot(train_hist, label = 'training set accuracy')\n",
    "plt.plot(test_hist, label = 'testing set accuracy')\n",
    "plt.legend(loc = 0)\n",
    "plt.axhline(y=final_acc, color='k', linestyle='--')\n",
    "plt.show()"
   ]
  },
  {
   "cell_type": "markdown",
   "metadata": {},
   "source": [
    "Dropout"
   ]
  },
  {
   "cell_type": "code",
   "execution_count": 3,
   "metadata": {
    "collapsed": false
   },
   "outputs": [
    {
     "name": "stdout",
     "output_type": "stream",
     "text": [
      "Extracting MNIST_data/train-images-idx3-ubyte.gz\n",
      "Extracting MNIST_data/train-labels-idx1-ubyte.gz\n",
      "Extracting MNIST_data/t10k-images-idx3-ubyte.gz\n",
      "Extracting MNIST_data/t10k-labels-idx1-ubyte.gz\n",
      "test accuracy 0.173\n",
      "train accuracy 0.204\n",
      "test accuracy 0.5692\n",
      "train accuracy 0.644\n",
      "test accuracy 0.8138\n",
      "train accuracy 0.888\n",
      "test accuracy 0.8691\n",
      "train accuracy 0.968\n",
      "test accuracy 0.8424\n",
      "train accuracy 1\n"
     ]
    }
   ],
   "source": [
    "# Declare computation graph\n",
    "sess = tf.InteractiveSession()\n",
    "\n",
    "y_ = tf.placeholder( tf.float32, shape=[None, 10], name=\"y_\" )\n",
    "x = tf.placeholder( tf.float32, [None, 784], name=\"x\" )\n",
    "p = tf.placeholder( tf.float32, name = \"keep_prob\")\n",
    "scale = tf.placeholder( tf.float32, name = \"test_scale\")\n",
    "\n",
    "W1 = weight_variable([784, 500])\n",
    "b1 = bias_variable([500])\n",
    "h1 = tf.nn.relu( tf.matmul( x, W1 ) + b1 )\n",
    "r1 = tf.less(tf.random_uniform(tf.shape(h1), maxval = 1), p)\n",
    "h1 = tf.mul(h1,tf.to_float(r1)) * scale\n",
    "\n",
    "W2 = weight_variable([500, 500])\n",
    "b2 = bias_variable([500])\n",
    "h2 = tf.nn.relu( tf.matmul( h1, W2 ) + b2 )\n",
    "r2 = tf.less(tf.random_uniform(tf.shape(h2), maxval = 1), p)\n",
    "h2 = tf.mul(h2,tf.to_float(r2)) * scale\n",
    "\n",
    "W3 = weight_variable([500, 1000])\n",
    "b3 = bias_variable([1000])\n",
    "h3 = tf.nn.relu( tf.matmul( h2, W3 ) + b3 )\n",
    "r3 = tf.less(tf.random_uniform(tf.shape(h3), maxval = 1), p)\n",
    "h3 = tf.mul(h3,tf.to_float(r3)) * scale\n",
    "\n",
    "W4 = weight_variable([1000, 10])\n",
    "b4 = bias_variable([10])\n",
    "y_hat = tf.nn.softmax(tf.matmul(h3, W4) + b4)\n",
    "\n",
    "cross_entropy = tf.reduce_mean(-tf.reduce_sum(y_ * tf.log(y_hat), reduction_indices=[1]))\n",
    "xent_summary = tf.scalar_summary( 'xent', cross_entropy )\n",
    "\n",
    "correct_prediction = tf.equal(tf.argmax(y_hat,1), tf.argmax(y_,1))\n",
    "accuracy = tf.reduce_mean(tf.cast(correct_prediction, tf.float32))\n",
    "acc_summary = tf.scalar_summary( 'accuracy', accuracy )\n",
    "\n",
    "train_step = tf.train.AdamOptimizer(1e-4).minimize(cross_entropy)\n",
    "\n",
    "#\n",
    "# ==================================================================\n",
    "#\n",
    "\n",
    "\n",
    "#\n",
    "# ==================================================================\n",
    "#\n",
    "\n",
    "# NOTE: we're using a single, fixed batch of the first 1000 images\n",
    "mnist = input_data.read_data_sets( \"MNIST_data/\", one_hot=True )\n",
    "\n",
    "n_obs = 1000\n",
    "images = mnist.train.images[ 0:n_obs, : ]\n",
    "labels = mnist.train.labels[ 0:n_obs, : ]\n",
    "test_acc = []\n",
    "train_acc = []\n",
    "probs = [ 0.1, 0.25, 0.5, 0.75, 1.0 ]\n",
    "for prob in probs:\n",
    "    sess.run( tf.initialize_all_variables() )\n",
    "    for i in range( 150 ):\n",
    "        _ = sess.run( train_step , feed_dict={ x: images, y_: labels, p: prob, scale: 1 } )\n",
    "        #print( \"step %d, training accuracy %g\" % (i, acc) )\n",
    "\n",
    "    #  if i%10==0:\n",
    "    #      tmp = sess.run( accuracy, feed_dict={ x: mnist.test.images, y_: mnist.test.labels } )\n",
    "    #      print( \"          test accuracy %g\" % tmp )\n",
    "\n",
    "    #\n",
    "    # ==================================================================\n",
    "    #\n",
    "    acc = sess.run( accuracy , feed_dict={ x: images, y_: labels, p: 1, scale: prob } )\n",
    "    train_acc.append(acc)\n",
    "    final_acc = sess.run( accuracy, feed_dict={ x: mnist.test.images, y_: mnist.test.labels, p: 1, scale: prob } )\n",
    "    test_acc.append(final_acc)\n",
    "    print( \"test accuracy %g\" % final_acc )\n",
    "    print( \"train accuracy %g\" % acc)"
   ]
  },
  {
   "cell_type": "code",
   "execution_count": 4,
   "metadata": {
    "collapsed": false
   },
   "outputs": [
    {
     "data": {
      "image/png": "[encoded data removed]",
      "text/plain": [
       "<matplotlib.figure.Figure at 0x117575050>"
      ]
     },
     "metadata": {},
     "output_type": "display_data"
    }
   ],
   "source": [
    "plt.plot(probs, train_acc, label = 'Training Accuracy') \n",
    "plt.plot(probs, test_acc, label = 'Test Accuracy')\n",
    "plt.xlabel('Keep Probability')\n",
    "plt.title(\"Dropout\")\n",
    "plt.legend(loc = 0)\n",
    "plt.ylabel('Accuracy')\n",
    "plt.axhline(y=final_acc, color='r', linestyle='--')\n",
    "plt.show()"
   ]
  },
  {
   "cell_type": "markdown",
   "metadata": {},
   "source": [
    "Dropconnect"
   ]
  },
  {
   "cell_type": "code",
   "execution_count": 5,
   "metadata": {
    "collapsed": false,
    "scrolled": true
   },
   "outputs": [
    {
     "name": "stdout",
     "output_type": "stream",
     "text": [
      "Extracting MNIST_data/train-images-idx3-ubyte.gz\n",
      "Extracting MNIST_data/train-labels-idx1-ubyte.gz\n",
      "Extracting MNIST_data/t10k-images-idx3-ubyte.gz\n",
      "Extracting MNIST_data/t10k-labels-idx1-ubyte.gz\n",
      "test accuracy 0.1214\n",
      "train accuracy 0.117\n",
      "test accuracy 0.6481\n",
      "train accuracy 0.703\n",
      "test accuracy 0.8645\n",
      "train accuracy 0.948\n",
      "test accuracy 0.8904\n",
      "train accuracy 1\n",
      "test accuracy 0.8825\n",
      "train accuracy 1\n"
     ]
    },
    {
     "name": "stderr",
     "output_type": "stream",
     "text": [
      "Exception AssertionError: AssertionError(\"Nesting violated for default stack of <type 'weakref'> objects\",) in <bound method InteractiveSession.__del__ of <tensorflow.python.client.session.InteractiveSession object at 0x117575410>> ignored\n"
     ]
    }
   ],
   "source": [
    "sess = tf.InteractiveSession()\n",
    "\n",
    "y_ = tf.placeholder( tf.float32, shape=[None, 10], name=\"y_\" )\n",
    "x = tf.placeholder( tf.float32, [None, 784], name=\"x\" )\n",
    "p = tf.placeholder( tf.float32, name = \"keep_prob\")\n",
    "scale = tf.placeholder( tf.float32, name = \"test_scale\")\n",
    "\n",
    "W1 = weight_variable([784, 500])\n",
    "r1 = tf.less(tf.random_uniform(tf.shape(W1), maxval = 1), p)\n",
    "W1 = tf.mul(W1,tf.to_float(r1)) * scale\n",
    "b1 = bias_variable([500])\n",
    "h1 = tf.nn.relu( tf.matmul( x, W1 ) + b1 )\n",
    "\n",
    "\n",
    "W2 = weight_variable([500, 500])\n",
    "r2 = tf.less(tf.random_uniform(tf.shape(W2), maxval = 1), p)\n",
    "W2 = tf.mul(W2,tf.to_float(r2)) * scale\n",
    "b2 = bias_variable([500])\n",
    "h2 = tf.nn.relu( tf.matmul( h1, W2 ) + b2 )\n",
    "\n",
    "\n",
    "W3 = weight_variable([500, 1000])\n",
    "r3 = tf.less(tf.random_uniform(tf.shape(W3), maxval = 1), p)\n",
    "W3 = tf.mul(W3,tf.to_float(r3)) * scale\n",
    "b3 = bias_variable([1000])\n",
    "h3 = tf.nn.relu( tf.matmul( h2, W3 ) + b3 )\n",
    "\n",
    "\n",
    "W4 = weight_variable([1000, 10])\n",
    "b4 = bias_variable([10])\n",
    "y_hat = tf.nn.softmax(tf.matmul(h3, W4) + b4)\n",
    "\n",
    "cross_entropy = tf.reduce_mean(-tf.reduce_sum(y_ * tf.log(y_hat), reduction_indices=[1]))\n",
    "xent_summary = tf.scalar_summary( 'xent', cross_entropy )\n",
    "\n",
    "correct_prediction = tf.equal(tf.argmax(y_hat,1), tf.argmax(y_,1))\n",
    "accuracy = tf.reduce_mean(tf.cast(correct_prediction, tf.float32))\n",
    "acc_summary = tf.scalar_summary( 'accuracy', accuracy )\n",
    "\n",
    "train_step = tf.train.AdamOptimizer(1e-4).minimize(cross_entropy)\n",
    "\n",
    "#\n",
    "# ==================================================================\n",
    "#\n",
    "\n",
    "\n",
    "#\n",
    "# ==================================================================\n",
    "#\n",
    "\n",
    "# NOTE: we're using a single, fixed batch of the first 1000 images\n",
    "mnist = input_data.read_data_sets( \"MNIST_data/\", one_hot=True )\n",
    "\n",
    "n_obs = 1000\n",
    "images = mnist.train.images[ 0:n_obs, : ]\n",
    "labels = mnist.train.labels[ 0:n_obs, : ]\n",
    "test_acc = []\n",
    "train_acc = []\n",
    "probs = [ 0.1, 0.25, 0.5, 0.75, 1.0 ]\n",
    "for prob in probs:\n",
    "    sess.run( tf.initialize_all_variables() )\n",
    "    for i in range( 1500 ):\n",
    "        _ = sess.run( train_step, feed_dict={ x: images, y_: labels, p: prob, scale: 1 } )\n",
    "        #print( \"step %d, training accuracy %g\" % (i, acc) )\n",
    "\n",
    "    #  if i%10==0:\n",
    "    #      tmp = sess.run( accuracy, feed_dict={ x: mnist.test.images, y_: mnist.test.labels } )\n",
    "    #      print( \"          test accuracy %g\" % tmp )\n",
    "\n",
    "    #\n",
    "    # ==================================================================\n",
    "    #\n",
    "    acc = sess.run( accuracy , feed_dict={ x: images, y_: labels, p: 1, scale: prob } )\n",
    "    train_acc.append(acc)\n",
    "    final_acc = sess.run( accuracy, feed_dict={ x: mnist.test.images, y_: mnist.test.labels, p: 1, scale: prob } )\n",
    "    test_acc.append(final_acc)\n",
    "    print( \"test accuracy %g\" % final_acc )\n",
    "    print( \"train accuracy %g\" % acc)"
   ]
  },
  {
   "cell_type": "code",
   "execution_count": 6,
   "metadata": {
    "collapsed": false
   },
   "outputs": [
    {
     "data": {
      "image/png": "[encoded data removed]",
      "text/plain": [
       "<matplotlib.figure.Figure at 0x1175476d0>"
      ]
     },
     "metadata": {},
     "output_type": "display_data"
    }
   ],
   "source": [
    "plt.plot(probs, train_acc, label = 'Training Accuracy') \n",
    "plt.plot(probs, test_acc, label = 'Test Accuracy')\n",
    "plt.xlabel('Keep Probability')\n",
    "plt.title(\"Dropconnect\")\n",
    "plt.legend([\"Training\", \"Test\", \"Baseline\"], loc=4)\n",
    "plt.ylabel('Accuracy')\n",
    "plt.axhline(y=final_acc, color='r', linestyle='--')\n",
    "plt.show()\n"
   ]
  },
  {
   "cell_type": "markdown",
   "metadata": {},
   "source": [
    "L1 Regularization"
   ]
  },
  {
   "cell_type": "code",
   "execution_count": 7,
   "metadata": {
    "collapsed": false
   },
   "outputs": [
    {
     "name": "stdout",
     "output_type": "stream",
     "text": [
      "Extracting MNIST_data/train-images-idx3-ubyte.gz\n",
      "Extracting MNIST_data/train-labels-idx1-ubyte.gz\n",
      "Extracting MNIST_data/t10k-images-idx3-ubyte.gz\n",
      "Extracting MNIST_data/t10k-labels-idx1-ubyte.gz\n",
      "test accuracy 0.0571\n",
      "train accuracy 0.047\n",
      "test accuracy 0.6997\n",
      "train accuracy 0.809\n",
      "test accuracy 0.8341\n",
      "train accuracy 1\n"
     ]
    }
   ],
   "source": [
    "y_ = tf.placeholder( tf.float32, shape=[None, 10], name=\"y_\" )\n",
    "x = tf.placeholder( tf.float32, [None, 784], name=\"x\" )\n",
    "lam = tf.placeholder(tf.float32, name = \"lambda\")\n",
    "\n",
    "W1 = weight_variable([784, 500])\n",
    "b1 = bias_variable([500])\n",
    "h1 = tf.nn.relu( tf.matmul( x, W1 ) + b1 )\n",
    "\n",
    "W2 = weight_variable([500, 500])\n",
    "b2 = bias_variable([500])\n",
    "h2 = tf.nn.relu( tf.matmul( h1, W2 ) + b2 )\n",
    "\n",
    "W3 = weight_variable([500, 1000])\n",
    "b3 = bias_variable([1000])\n",
    "h3 = tf.nn.relu( tf.matmul( h2, W3 ) + b3 )\n",
    "\n",
    "W4 = weight_variable([1000, 10])\n",
    "b4 = bias_variable([10])\n",
    "y_hat = tf.nn.softmax(tf.matmul(h3, W4) + b4)\n",
    "\n",
    "collection = tf.get_collection(tf.GraphKeys.TRAINABLE_VARIABLES)\n",
    "R = 0\n",
    "for i in collection:\n",
    "    R += tf.reduce_sum(tf.abs(i))\n",
    "\n",
    "cross_entropy = tf.reduce_mean(-tf.reduce_sum(y_ * tf.log(y_hat), reduction_indices=[1]))\n",
    "xent_summary = tf.scalar_summary( 'xent', cross_entropy )\n",
    "\n",
    "correct_prediction = tf.equal(tf.argmax(y_hat,1), tf.argmax(y_,1))\n",
    "accuracy = tf.reduce_mean(tf.cast(correct_prediction, tf.float32))\n",
    "acc_summary = tf.scalar_summary( 'accuracy', accuracy )\n",
    "\n",
    "train_step = tf.train.AdamOptimizer(1e-4).minimize(cross_entropy + lam * R)\n",
    "\n",
    "#\n",
    "# ==================================================================\n",
    "#\n",
    "\n",
    "sess = tf.Session()\n",
    "\n",
    "#\n",
    "# ==================================================================\n",
    "#\n",
    "\n",
    "# NOTE: we're using a single, fixed batch of the first 1000 images\n",
    "mnist = input_data.read_data_sets( \"MNIST_data/\", one_hot=True )\n",
    "\n",
    "images = mnist.train.images[ 0:1000, : ]\n",
    "labels = mnist.train.labels[ 0:1000, : ]\n",
    "train_hist = []\n",
    "test_hist = []\n",
    "lambdas = [0.1, 0.01, 0.001]\n",
    "\n",
    "for lamb in lambdas:\n",
    "    sess.run( tf.initialize_all_variables() )\n",
    "    for i in range( 150 ):\n",
    "        _ = sess.run( train_step , feed_dict={ x: images, y_: labels, lam: lamb } )\n",
    "        #print( \"step %d, training accuracy %g\" % (i, acc) )\n",
    "    acc = sess.run(accuracy, feed_dict = {x: images, y_: labels, lam: 1 })\n",
    "    test_acc = sess.run( accuracy, feed_dict={ x: mnist.test.images, y_: mnist.test.labels, lam: 1 } )\n",
    "    train_hist.append(acc)\n",
    "    test_hist.append(test_acc)\n",
    "\n",
    "    #  if i%10==0:\n",
    "    #      tmp = sess.run( accuracy, feed_dict={ x: mnist.test.images, y_: mnist.test.labels } )\n",
    "    #      print( \"          test accuracy %g\" % tmp )\n",
    "\n",
    "    #\n",
    "    # ==================================================================\n",
    "    #\n",
    "    final_acc = test_acc\n",
    "    print( \"test accuracy %g\" % final_acc )\n",
    "    print( \"train accuracy %g\" % acc)"
   ]
  },
  {
   "cell_type": "code",
   "execution_count": 8,
   "metadata": {
    "collapsed": false
   },
   "outputs": [
    {
     "data": {
      "image/png": "[encoded data removed]",
      "text/plain": [
       "<matplotlib.figure.Figure at 0x103e1a250>"
      ]
     },
     "metadata": {},
     "output_type": "display_data"
    }
   ],
   "source": [
    "ax = plt.gca()\n",
    "ax.invert_xaxis()\n",
    "plt.title(\"L1\")\n",
    "plt.ylabel(\"Accuracy\")\n",
    "plt.xlabel(\"Lambda\")\n",
    "plt.semilogx(lambdas, train_hist)\n",
    "plt.semilogx(lambdas, test_hist)\n",
    "plt.semilogx(lambdas, [final_acc]*len(lambdas), ls='--')\n",
    "plt.legend([\"Training\", \"Test\", \"Baseline\"], loc=4)\n",
    "plt.show()"
   ]
  }
 ],
 "metadata": {
  "kernelspec": {
   "display_name": "Python 2",
   "language": "python",
   "name": "python2"
  },
  "language_info": {
   "codemirror_mode": {
    "name": "ipython",
    "version": 2
   },
   "file_extension": ".py",
   "mimetype": "text/x-python",
   "name": "python",
   "nbconvert_exporter": "python",
   "pygments_lexer": "ipython2",
   "version": "2.7.11"
  }
 },
 "nbformat": 4,
 "nbformat_minor": 0
}

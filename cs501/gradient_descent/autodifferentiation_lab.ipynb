{
 "cells": [
  {
   "cell_type": "markdown",
   "metadata": {},
   "source": [
    "# Gradient Descent Lab\n",
    "## Chris Rytting"
   ]
  },
  {
   "cell_type": "code",
   "execution_count": 32,
   "metadata": {
    "collapsed": false
   },
   "outputs": [],
   "source": [
    "import autograd.numpy as np\n",
    "from autograd import grad as grad_f\n",
    "from matplotlib import pyplot as plt\n",
    "%matplotlib inline\n",
    "# =============================================\n",
    "#\n",
    "# load cifar-10-small and project down\n",
    "#\n",
    " \n",
    "def unpickle( file ):\n",
    "    import cPickle\n",
    "    fo = open(file, 'rb')\n",
    "    dict = cPickle.load(fo)\n",
    "    fo.close()\n",
    "    return dict\n",
    " \n",
    "data = unpickle( 'cifar-10-batches-py/data_batch_1' )\n",
    " \n",
    "features = data['data']\n",
    "labels = data['labels']\n",
    "labels = np.atleast_2d( labels ).T\n",
    " \n",
    "N = 1000\n",
    "D = 10\n",
    " \n",
    "# only keep N items\n",
    "features = features[ 0:N, : ] \n",
    "labels = labels[ 0:N, : ]\n",
    " \n",
    "# project down into a D-dimensional space\n",
    "#features = np.dot( features, np.random.randn( 3072, D) )\n",
    " \n",
    "# whiten our data - zero mean and unit standard deviation\n",
    "features = (features - np.mean(features, axis=0)) / np.std(features, axis=0)\n",
    "\n",
    "# ===============================================\n",
    "#Make one line\n",
    "def linear_score(W):\n",
    "    return np.dot(W,features.T)\n",
    "\n",
    "def loss_function(W):\n",
    "    scores = linear_score(W)\n",
    "    P = np.exp(scores) / np.sum( np.exp(scores), axis=0)\n",
    "    losses = P[labels.flatten(), range(0,P.shape[1])]\n",
    "    loss = -1 * np.log(losses)\n",
    "    return np.mean(loss)\n",
    "\n",
    "\n",
    "W = np.random.normal(0,.001,(D,np.shape(features)[1] + 1))\n",
    "features = np.hstack((features, np.ones((np.shape(features)[0],1))))\n",
    "\n",
    "loss_function(W)\n",
    "\n",
    "\n",
    "\n",
    "\n",
    "def numerical_gradient(loss_function, W, h = .000001):\n",
    "    gradient = np.zeros(np.shape(W))\n",
    "    (loss_function(W + h) - loss_function(W))/ float(h) \n",
    "    for i in xrange(W.shape[0]):\n",
    "        for j in xrange(W.shape[1]):\n",
    "            W_temp = np.copy(W)\n",
    "            W_temp[i][j] += h\n",
    "            #loss vs. softmax??\n",
    "            gradient[i][j] = (loss_function(W_temp) - loss_function(W))/h\n",
    "\n",
    "    return loss_function(W), gradient\n",
    "\n",
    "loss = []\n",
    "accuracy = []"
   ]
  },
  {
   "cell_type": "code",
   "execution_count": 33,
   "metadata": {
    "collapsed": false
   },
   "outputs": [],
   "source": [
    "NUM_EPOCHS = 1000\n",
    "step_size = 0.1\n",
    "for i in range(0,NUM_EPOCHS):\n",
    "    grad_t = grad_f(loss_function)\n",
    "    W = W - step_size * grad_t(W)\n",
    "    loss.append(loss_function(W))\n",
    "    all_scores = linear_score(W)\n",
    "    cats = np.argmax(all_scores, axis=0).flatten()\n",
    "    acc = float(np.sum(np.isclose(labels.flatten(), cats))) / len(labels)\n",
    "    accuracy.append(acc)"
   ]
  },
  {
   "cell_type": "code",
   "execution_count": 34,
   "metadata": {
    "collapsed": false,
    "scrolled": true
   },
   "outputs": [
    {
     "data": {
      "image/png": "[encoded data removed]",
      "text/plain": [
       "<matplotlib.figure.Figure at 0x117940550>"
      ]
     },
     "metadata": {},
     "output_type": "display_data"
    },
    {
     "data": {
      "image/png": "[encoded data removed]",
      "text/plain": [
       "<matplotlib.figure.Figure at 0x117916a50>"
      ]
     },
     "metadata": {},
     "output_type": "display_data"
    }
   ],
   "source": [
    "t = np.linspace(1,1000,1000)\n",
    "plt.plot(t, loss)\n",
    "plt.title(\"Loss Over time\")\n",
    "plt.xlabel(\"Epochs\")\n",
    "plt.ylabel(\"Loss Function (Softmax)\")\n",
    "plt.show()\n",
    "\n",
    "plt.plot(t, accuracy)\n",
    "plt.title(\"Accuracy Over time\")\n",
    "plt.xlabel(\"Epochs\")\n",
    "plt.ylabel(\"Accuracy\")\n",
    "plt.show()"
   ]
  }
 ],
 "metadata": {
  "kernelspec": {
   "display_name": "Python 2",
   "language": "python",
   "name": "python2"
  },
  "language_info": {
   "codemirror_mode": {
    "name": "ipython",
    "version": 2
   },
   "file_extension": ".py",
   "mimetype": "text/x-python",
   "name": "python",
   "nbconvert_exporter": "python",
   "pygments_lexer": "ipython2",
   "version": "2.7.11"
  }
 },
 "nbformat": 4,
 "nbformat_minor": 0
}
